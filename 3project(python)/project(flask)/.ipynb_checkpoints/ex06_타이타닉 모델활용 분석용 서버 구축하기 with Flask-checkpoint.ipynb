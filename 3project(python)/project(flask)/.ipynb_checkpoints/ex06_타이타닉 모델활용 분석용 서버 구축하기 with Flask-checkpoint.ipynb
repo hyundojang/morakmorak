{
 "cells": [
  {
   "cell_type": "markdown",
   "metadata": {},
   "source": [
    "### 플라스크 설치"
   ]
  },
  {
   "cell_type": "code",
   "execution_count": 6,
   "metadata": {},
   "outputs": [
    {
     "name": "stdout",
     "output_type": "stream",
     "text": [
      "Requirement already satisfied: flask in c:\\users\\user\\anaconda3\\lib\\site-packages (1.1.1)\n",
      "Requirement already satisfied: itsdangerous>=0.24 in c:\\users\\user\\anaconda3\\lib\\site-packages (from flask) (1.1.0)\n",
      "Requirement already satisfied: Jinja2>=2.10.1 in c:\\users\\user\\anaconda3\\lib\\site-packages (from flask) (2.11.1)\n",
      "Requirement already satisfied: click>=5.1 in c:\\users\\user\\anaconda3\\lib\\site-packages (from flask) (7.0)\n",
      "Requirement already satisfied: Werkzeug>=0.15 in c:\\users\\user\\anaconda3\\lib\\site-packages (from flask) (1.0.0)\n",
      "Requirement already satisfied: MarkupSafe>=0.23 in c:\\users\\user\\anaconda3\\lib\\site-packages (from Jinja2>=2.10.1->flask) (1.1.1)\n"
     ]
    }
   ],
   "source": [
    "!pip install flask"
   ]
  },
  {
   "cell_type": "code",
   "execution_count": null,
   "metadata": {},
   "outputs": [
    {
     "name": "stdout",
     "output_type": "stream",
     "text": [
      " * Serving Flask app \"__main__\" (lazy loading)\n",
      " * Environment: production\n",
      "   WARNING: This is a development server. Do not use it in a production deployment.\n",
      "   Use a production WSGI server instead.\n",
      " * Debug mode: off\n"
     ]
    },
    {
     "name": "stderr",
     "output_type": "stream",
     "text": [
      " * Running on http://localhost:9001/ (Press CTRL+C to quit)\n",
      "127.0.0.1 - - [09/Nov/2020 15:11:18] \"\u001b[32mPOST /post HTTP/1.1\u001b[0m\" 302 -\n"
     ]
    }
   ],
   "source": [
    "from flask import Flask, request, redirect # 플라스크 클래스 임포트\n",
    "\n",
    "app = Flask(__name__) # 내장변수 name을 이용해 서버를 구동시키는 객체 생성\n",
    "\n",
    "@app.route('/')\n",
    "def post1():\n",
    "    return \"하이!\"\n",
    "\n",
    "@app.route('/post', methods=['POST'])\n",
    "def post():\n",
    "    value = request.form['test']\n",
    "    #0,1,2\n",
    "    return redirect(\"http://localhost:8099/Ajax_Project/Ajax_Send.html&num1=1\")\n",
    "\n",
    "@app.route(\"/bye\")\n",
    "def first1() :\n",
    "    return \"안녕히가세요.\"\n",
    "\n",
    "if __name__ == \"__main__\" : # .py 파일에서 main함수 역할\n",
    "    app.run(host=\"localhost\", port=\"9001\")"
   ]
  },
  {
   "cell_type": "markdown",
   "metadata": {},
   "source": [
    "### 타이타닉용 분석용 서버 구축"
   ]
  },
  {
   "cell_type": "code",
   "execution_count": 4,
   "metadata": {},
   "outputs": [
    {
     "name": "stdout",
     "output_type": "stream",
     "text": [
      " * Serving Flask app \"__main__\" (lazy loading)\n",
      " * Environment: production\n",
      "   WARNING: This is a development server. Do not use it in a production deployment.\n",
      "   Use a production WSGI server instead.\n",
      " * Debug mode: off\n"
     ]
    },
    {
     "name": "stderr",
     "output_type": "stream",
     "text": [
      " * Running on http://localhost:9000/ (Press CTRL+C to quit)\n"
     ]
    },
    {
     "data": {
      "text/plain": [
       "ImmutableMultiDict([('Age', '1'), ('Deck', 'A'), ('Embarked', 'S'), ('Fare', '0.01'), ('Parch', '1'), ('SibSp', '1'), ('Pclass', '2'), ('Sex', 'male'), ('Title', 'Mr')])"
      ]
     },
     "metadata": {},
     "output_type": "display_data"
    },
    {
     "name": "stderr",
     "output_type": "stream",
     "text": [
      "127.0.0.1 - - [29/Jul/2020 11:26:14] \"\u001b[32mPOST /titanic/predict HTTP/1.1\u001b[0m\" 302 -\n"
     ]
    },
    {
     "name": "stdout",
     "output_type": "stream",
     "text": [
      "[0]\n"
     ]
    },
    {
     "data": {
      "text/plain": [
       "ImmutableMultiDict([('Age', '25'), ('Deck', 'A'), ('Embarked', 'S'), ('Fare', '50'), ('Parch', '3'), ('SibSp', '1'), ('Pclass', '1'), ('Sex', 'female'), ('Title', 'Miss')])"
      ]
     },
     "metadata": {},
     "output_type": "display_data"
    },
    {
     "name": "stderr",
     "output_type": "stream",
     "text": [
      "127.0.0.1 - - [29/Jul/2020 11:26:52] \"\u001b[32mPOST /titanic/predict HTTP/1.1\u001b[0m\" 302 -\n"
     ]
    },
    {
     "name": "stdout",
     "output_type": "stream",
     "text": [
      "[1]\n"
     ]
    },
    {
     "data": {
      "text/plain": [
       "ImmutableMultiDict([('Age', '25'), ('Deck', 'A'), ('Embarked', 'S'), ('Fare', '50'), ('Parch', '3'), ('SibSp', '1'), ('Pclass', '1'), ('Sex', 'female'), ('Title', 'Miss')])"
      ]
     },
     "metadata": {},
     "output_type": "display_data"
    },
    {
     "name": "stderr",
     "output_type": "stream",
     "text": [
      "127.0.0.1 - - [29/Jul/2020 11:27:03] \"\u001b[32mPOST /titanic/predict HTTP/1.1\u001b[0m\" 302 -\n"
     ]
    },
    {
     "name": "stdout",
     "output_type": "stream",
     "text": [
      "[1]\n"
     ]
    },
    {
     "data": {
      "text/plain": [
       "ImmutableMultiDict([('Age', '25'), ('Deck', 'A'), ('Embarked', 'S'), ('Fare', '50'), ('Parch', '3'), ('SibSp', '1'), ('Pclass', '1'), ('Sex', 'female'), ('Title', 'Miss')])"
      ]
     },
     "metadata": {},
     "output_type": "display_data"
    },
    {
     "name": "stderr",
     "output_type": "stream",
     "text": [
      "127.0.0.1 - - [29/Jul/2020 11:41:17] \"\u001b[32mPOST /titanic/predict HTTP/1.1\u001b[0m\" 302 -\n"
     ]
    },
    {
     "name": "stdout",
     "output_type": "stream",
     "text": [
      "[1]\n"
     ]
    }
   ],
   "source": [
    "from flask import Flask # 플라스크 클래스 임포트\n",
    "from flask import request, redirect\n",
    "import pickle # 데이터 저장/로딩을 위한 모듈\n",
    "import pandas as pd\n",
    "import numpy as np\n",
    "\n",
    "app = Flask(__name__) # 내장변수 name을 이용해 서버를 구동시키는 객체 생성\n",
    "\n",
    "with open('titanic_trained_tree_model.pkl', 'rb') as f :\n",
    "    model = pickle.load(f) # pickle을 이용했기때문에 model안에는 sklearn의 결정트리 클래스가 불러와진다.\n",
    "\n",
    "@app.route(\"/titanic/predict\", methods=[\"GET\",'POST'])\n",
    "def predict_survived() :\n",
    "    if request.method == 'POST' : # POST 방식일 경우\n",
    "        display(request.form)\n",
    "        # 넘어온 값을 전처리\n",
    "        df = preprocessing(request.form)\n",
    "        pre = model.predict(df)\n",
    "        print(pre)\n",
    "        return redirect(\"http://localhost:8081/TitanicWebService/result.jsp?predict=\"+str(pre[0]))\n",
    "    else : # GET 방식일 경우\n",
    "        # 넘어온 값을 전처리\n",
    "        df = preprocessing(request.args)\n",
    "        pre = model.predict(df)\n",
    "        print(pre)\n",
    "        return \"어서오세요2.\"\n",
    "\n",
    "if __name__ == \"__main__\" : # .py 파일에서 main함수 역할\n",
    "    app.run(host=\"localhost\", port=\"9000\") # 9000번 포트로 서버 구동"
   ]
  },
  {
   "cell_type": "code",
   "execution_count": 2,
   "metadata": {},
   "outputs": [],
   "source": [
    "def preprocessing(data_dict):\n",
    "    with open('titanic_column_name.pkl','rb') as f :\n",
    "        titanic_columns = pickle.load(f)\n",
    "    \n",
    "    df = pd.DataFrame( np.zeros((1,29)) , columns=titanic_columns)\n",
    "    \n",
    "    df['Age'] = data_dict['Age']\n",
    "    df['Deck_'+data_dict['Deck']] = 1\n",
    "    df['Embarked_'+data_dict['Embarked']] = 1\n",
    "    # df['Family_Size'] = data_dict['Parch'] + data_dict['SibSp'] + 1\n",
    "    Family_Size = int(data_dict['Parch']) + int(data_dict['SibSp']) + 1\n",
    "    if Family_Size == 1 :\n",
    "        df['Family_Group_Alone'] = 1\n",
    "    elif Family_Size <= 4 :\n",
    "        df['Family_Group_Small'] = 1\n",
    "    else :\n",
    "        df['Family_Group_Large'] = 1\n",
    "    df['Fare'] = data_dict['Fare']\n",
    "    df['Pclass'] = data_dict['Pclass']\n",
    "    df['Sex_'+data_dict['Sex']] = 1\n",
    "    df['Parch'] = data_dict['Parch']\n",
    "    df['SibSp'] = data_dict['SibSp']\n",
    "    df['Title_'+data_dict['Title']] = 1\n",
    "    \n",
    "    return df"
   ]
  },
  {
   "cell_type": "code",
   "execution_count": null,
   "metadata": {},
   "outputs": [],
   "source": []
  },
  {
   "cell_type": "code",
   "execution_count": null,
   "metadata": {},
   "outputs": [],
   "source": []
  },
  {
   "cell_type": "code",
   "execution_count": null,
   "metadata": {},
   "outputs": [],
   "source": []
  },
  {
   "cell_type": "code",
   "execution_count": null,
   "metadata": {},
   "outputs": [],
   "source": []
  }
 ],
 "metadata": {
  "kernelspec": {
   "display_name": "Python 3",
   "language": "python",
   "name": "python3"
  },
  "language_info": {
   "codemirror_mode": {
    "name": "ipython",
    "version": 3
   },
   "file_extension": ".py",
   "mimetype": "text/x-python",
   "name": "python",
   "nbconvert_exporter": "python",
   "pygments_lexer": "ipython3",
   "version": "3.7.6"
  }
 },
 "nbformat": 4,
 "nbformat_minor": 4
}
